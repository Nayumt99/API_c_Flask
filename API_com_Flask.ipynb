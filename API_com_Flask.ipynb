{
  "nbformat": 4,
  "nbformat_minor": 0,
  "metadata": {
    "colab": {
      "provenance": [],
      "authorship_tag": "ABX9TyOCXH658U9Dm+IBOQwdhIz0",
      "include_colab_link": true
    },
    "kernelspec": {
      "name": "python3",
      "display_name": "Python 3"
    },
    "language_info": {
      "name": "python"
    }
  },
  "cells": [
    {
      "cell_type": "markdown",
      "metadata": {
        "id": "view-in-github",
        "colab_type": "text"
      },
      "source": [
        "<a href=\"https://colab.research.google.com/github/Nayumt99/API_c_Flask/blob/main/API_com_Flask.ipynb\" target=\"_parent\"><img src=\"https://colab.research.google.com/assets/colab-badge.svg\" alt=\"Open In Colab\"/></a>"
      ]
    },
    {
      "cell_type": "code",
      "execution_count": 4,
      "metadata": {
        "colab": {
          "base_uri": "https://localhost:8080/"
        },
        "id": "IOm_-UNv1I7f",
        "outputId": "ccf7e82f-e9ed-4d64-9bd8-d16c034a4ec0"
      },
      "outputs": [
        {
          "output_type": "stream",
          "name": "stdout",
          "text": [
            "Requirement already satisfied: flask in /usr/local/lib/python3.10/dist-packages (2.2.5)\n",
            "Requirement already satisfied: Werkzeug>=2.2.2 in /usr/local/lib/python3.10/dist-packages (from flask) (3.0.2)\n",
            "Requirement already satisfied: Jinja2>=3.0 in /usr/local/lib/python3.10/dist-packages (from flask) (3.1.3)\n",
            "Requirement already satisfied: itsdangerous>=2.0 in /usr/local/lib/python3.10/dist-packages (from flask) (2.1.2)\n",
            "Requirement already satisfied: click>=8.0 in /usr/local/lib/python3.10/dist-packages (from flask) (8.1.7)\n",
            "Requirement already satisfied: MarkupSafe>=2.0 in /usr/local/lib/python3.10/dist-packages (from Jinja2>=3.0->flask) (2.1.5)\n"
          ]
        }
      ],
      "source": [
        "from google.colab import drive\n",
        "\n",
        "!pip install flask\n",
        "\n"
      ]
    },
    {
      "cell_type": "code",
      "source": [
        "from flask import Flask, jsonify\n",
        "import pandas as pd\n",
        "\n",
        "app = Flask(__name__)\n",
        "\n",
        "@app.route('/index')\n",
        "def index():\n",
        "    # Ler a planilha de dados JSON diretamente do sistema de arquivos do Colab\n",
        "    data = pd.read_json('/content/sua_planilha.json')\n",
        "\n",
        "    # Converter os dados para JSON\n",
        "    json_data = data.to_json(orient='records')\n",
        "\n",
        "    return jsonify(json_data)\n",
        "\n",
        "if __name__ == '__main__':\n",
        "    app.run(host='localhost', port=5000)\n"
      ],
      "metadata": {
        "colab": {
          "base_uri": "https://localhost:8080/"
        },
        "id": "N4sxY6Yt1sVY",
        "outputId": "927e72b2-514c-429d-e764-44908ee3429b"
      },
      "execution_count": 7,
      "outputs": [
        {
          "output_type": "stream",
          "name": "stdout",
          "text": [
            " * Serving Flask app '__main__'\n",
            " * Debug mode: off\n"
          ]
        },
        {
          "output_type": "stream",
          "name": "stderr",
          "text": [
            "INFO:werkzeug:\u001b[31m\u001b[1mWARNING: This is a development server. Do not use it in a production deployment. Use a production WSGI server instead.\u001b[0m\n",
            " * Running on http://localhost:5000\n",
            "INFO:werkzeug:\u001b[33mPress CTRL+C to quit\u001b[0m\n"
          ]
        }
      ]
    },
    {
      "cell_type": "code",
      "source": [
        "import pandas as pd\n",
        "\n",
        "# Dados de exemplo\n",
        "dados = {\n",
        "    'Nome': ['João', 'Maria', 'José'],\n",
        "    'Idade': [30, 25, 35],\n",
        "    'Cidade': ['São Paulo', 'Rio de Janeiro', 'Belo Horizonte']\n",
        "}\n",
        "\n",
        "# Criar DataFrame\n",
        "df = pd.DataFrame(dados)\n",
        "\n",
        "# Salvar como JSON\n",
        "df.to_json('/content/sua_planilha.json', orient='records', lines=True)\n"
      ],
      "metadata": {
        "id": "Dq8xBk2I11pm"
      },
      "execution_count": 6,
      "outputs": []
    }
  ]
}